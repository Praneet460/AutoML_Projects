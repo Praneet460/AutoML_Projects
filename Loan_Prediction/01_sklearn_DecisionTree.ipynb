{
  "nbformat": 4,
  "nbformat_minor": 0,
  "metadata": {
    "colab": {
      "name": "01_sklearn_DecisionTree.ipynb",
      "provenance": [],
      "toc_visible": true
    },
    "kernelspec": {
      "name": "python3",
      "display_name": "Python 3"
    }
  },
  "cells": [
    {
      "cell_type": "markdown",
      "metadata": {
        "id": "u0SvFQl383EP",
        "colab_type": "text"
      },
      "source": [
        "## **Loan Prediction**"
      ]
    },
    {
      "cell_type": "code",
      "metadata": {
        "id": "smdQ5zie8wxA",
        "colab_type": "code",
        "colab": {}
      },
      "source": [
        "# Import required libraries\n",
        "import pandas as pd\n",
        "import numpy as np\n",
        "\n",
        "from sklearn.model_selection import train_test_split\n",
        "from sklearn.model_selection import cross_val_score\n",
        "from sklearn.model_selection import GridSearchCV, RandomizedSearchCV\n",
        "from sklearn.metrics import make_scorer, accuracy_score\n",
        "from sklearn.tree import DecisionTreeClassifier \n",
        "\n",
        "import warnings\n",
        "warnings.filterwarnings(\"ignore\")"
      ],
      "execution_count": 0,
      "outputs": []
    },
    {
      "cell_type": "code",
      "metadata": {
        "id": "41rWsw_AOv-x",
        "colab_type": "code",
        "colab": {}
      },
      "source": [
        "# path to data\n",
        "data_path = './loan.csv'"
      ],
      "execution_count": 0,
      "outputs": []
    },
    {
      "cell_type": "code",
      "metadata": {
        "id": "3UcqFYdWPFY1",
        "colab_type": "code",
        "colab": {}
      },
      "source": [
        "# load the data\n",
        "data_df = pd.read_csv(data_path)"
      ],
      "execution_count": 0,
      "outputs": []
    },
    {
      "cell_type": "code",
      "metadata": {
        "id": "2Cd7NlaYPP-4",
        "colab_type": "code",
        "outputId": "855b3d6a-1b52-414d-8852-ade4842b175c",
        "colab": {
          "base_uri": "https://localhost:8080/",
          "height": 195
        }
      },
      "source": [
        "# look at the data\n",
        "data_df.head(5)"
      ],
      "execution_count": 21,
      "outputs": [
        {
          "output_type": "execute_result",
          "data": {
            "text/html": [
              "<div>\n",
              "<style scoped>\n",
              "    .dataframe tbody tr th:only-of-type {\n",
              "        vertical-align: middle;\n",
              "    }\n",
              "\n",
              "    .dataframe tbody tr th {\n",
              "        vertical-align: top;\n",
              "    }\n",
              "\n",
              "    .dataframe thead th {\n",
              "        text-align: right;\n",
              "    }\n",
              "</style>\n",
              "<table border=\"1\" class=\"dataframe\">\n",
              "  <thead>\n",
              "    <tr style=\"text-align: right;\">\n",
              "      <th></th>\n",
              "      <th>ApplicantIncome</th>\n",
              "      <th>CoapplicantIncome</th>\n",
              "      <th>LoanAmount</th>\n",
              "      <th>Loan_Amount_Term</th>\n",
              "      <th>Credit_History</th>\n",
              "      <th>Loan_Status</th>\n",
              "    </tr>\n",
              "  </thead>\n",
              "  <tbody>\n",
              "    <tr>\n",
              "      <th>0</th>\n",
              "      <td>5849</td>\n",
              "      <td>0.0</td>\n",
              "      <td>0.0</td>\n",
              "      <td>360.0</td>\n",
              "      <td>1.0</td>\n",
              "      <td>1</td>\n",
              "    </tr>\n",
              "    <tr>\n",
              "      <th>1</th>\n",
              "      <td>4583</td>\n",
              "      <td>1508.0</td>\n",
              "      <td>128.0</td>\n",
              "      <td>360.0</td>\n",
              "      <td>1.0</td>\n",
              "      <td>0</td>\n",
              "    </tr>\n",
              "    <tr>\n",
              "      <th>2</th>\n",
              "      <td>3000</td>\n",
              "      <td>0.0</td>\n",
              "      <td>66.0</td>\n",
              "      <td>360.0</td>\n",
              "      <td>1.0</td>\n",
              "      <td>1</td>\n",
              "    </tr>\n",
              "    <tr>\n",
              "      <th>3</th>\n",
              "      <td>2583</td>\n",
              "      <td>2358.0</td>\n",
              "      <td>120.0</td>\n",
              "      <td>360.0</td>\n",
              "      <td>1.0</td>\n",
              "      <td>1</td>\n",
              "    </tr>\n",
              "    <tr>\n",
              "      <th>4</th>\n",
              "      <td>6000</td>\n",
              "      <td>0.0</td>\n",
              "      <td>141.0</td>\n",
              "      <td>360.0</td>\n",
              "      <td>1.0</td>\n",
              "      <td>1</td>\n",
              "    </tr>\n",
              "  </tbody>\n",
              "</table>\n",
              "</div>"
            ],
            "text/plain": [
              "   ApplicantIncome  CoapplicantIncome  ...  Credit_History  Loan_Status\n",
              "0             5849                0.0  ...             1.0            1\n",
              "1             4583             1508.0  ...             1.0            0\n",
              "2             3000                0.0  ...             1.0            1\n",
              "3             2583             2358.0  ...             1.0            1\n",
              "4             6000                0.0  ...             1.0            1\n",
              "\n",
              "[5 rows x 6 columns]"
            ]
          },
          "metadata": {
            "tags": []
          },
          "execution_count": 21
        }
      ]
    },
    {
      "cell_type": "code",
      "metadata": {
        "id": "T26ieHzPPVjf",
        "colab_type": "code",
        "outputId": "71a9b996-f71b-4017-a9bc-ce4802d42eb5",
        "colab": {
          "base_uri": "https://localhost:8080/",
          "height": 34
        }
      },
      "source": [
        "# dimension of `data_df`\n",
        "data_df.shape"
      ],
      "execution_count": 22,
      "outputs": [
        {
          "output_type": "execute_result",
          "data": {
            "text/plain": [
              "(614, 6)"
            ]
          },
          "metadata": {
            "tags": []
          },
          "execution_count": 22
        }
      ]
    },
    {
      "cell_type": "markdown",
      "metadata": {
        "id": "mdiLoV0d9ZN9",
        "colab_type": "text"
      },
      "source": [
        "The **loan** dataset is having 614 samples and 6 features set (including target field)."
      ]
    },
    {
      "cell_type": "code",
      "metadata": {
        "id": "XJNug8lxPaIs",
        "colab_type": "code",
        "outputId": "6921bd62-fec0-4b4f-ee44-fd8f6b94b216",
        "colab": {
          "base_uri": "https://localhost:8080/",
          "height": 70
        }
      },
      "source": [
        "# column names of the dataset\n",
        "data_df.columns"
      ],
      "execution_count": 23,
      "outputs": [
        {
          "output_type": "execute_result",
          "data": {
            "text/plain": [
              "Index(['ApplicantIncome', 'CoapplicantIncome', 'LoanAmount',\n",
              "       'Loan_Amount_Term', 'Credit_History', 'Loan_Status'],\n",
              "      dtype='object')"
            ]
          },
          "metadata": {
            "tags": []
          },
          "execution_count": 23
        }
      ]
    },
    {
      "cell_type": "code",
      "metadata": {
        "id": "-zlCLIHsQY9S",
        "colab_type": "code",
        "outputId": "31c6b83d-b6a4-4c54-ab63-59790272b077",
        "colab": {
          "base_uri": "https://localhost:8080/",
          "height": 210
        }
      },
      "source": [
        "# know more about data\n",
        "data_df.info()"
      ],
      "execution_count": 24,
      "outputs": [
        {
          "output_type": "stream",
          "text": [
            "<class 'pandas.core.frame.DataFrame'>\n",
            "RangeIndex: 614 entries, 0 to 613\n",
            "Data columns (total 6 columns):\n",
            "ApplicantIncome      614 non-null int64\n",
            "CoapplicantIncome    614 non-null float64\n",
            "LoanAmount           614 non-null float64\n",
            "Loan_Amount_Term     614 non-null float64\n",
            "Credit_History       614 non-null float64\n",
            "Loan_Status          614 non-null int64\n",
            "dtypes: float64(4), int64(2)\n",
            "memory usage: 28.9 KB\n"
          ],
          "name": "stdout"
        }
      ]
    },
    {
      "cell_type": "code",
      "metadata": {
        "id": "5CaMblDVQxdt",
        "colab_type": "code",
        "outputId": "b28b760e-871d-4e31-a760-603135809300",
        "colab": {
          "base_uri": "https://localhost:8080/",
          "height": 284
        }
      },
      "source": [
        "data_df.describe()"
      ],
      "execution_count": 25,
      "outputs": [
        {
          "output_type": "execute_result",
          "data": {
            "text/html": [
              "<div>\n",
              "<style scoped>\n",
              "    .dataframe tbody tr th:only-of-type {\n",
              "        vertical-align: middle;\n",
              "    }\n",
              "\n",
              "    .dataframe tbody tr th {\n",
              "        vertical-align: top;\n",
              "    }\n",
              "\n",
              "    .dataframe thead th {\n",
              "        text-align: right;\n",
              "    }\n",
              "</style>\n",
              "<table border=\"1\" class=\"dataframe\">\n",
              "  <thead>\n",
              "    <tr style=\"text-align: right;\">\n",
              "      <th></th>\n",
              "      <th>ApplicantIncome</th>\n",
              "      <th>CoapplicantIncome</th>\n",
              "      <th>LoanAmount</th>\n",
              "      <th>Loan_Amount_Term</th>\n",
              "      <th>Credit_History</th>\n",
              "      <th>Loan_Status</th>\n",
              "    </tr>\n",
              "  </thead>\n",
              "  <tbody>\n",
              "    <tr>\n",
              "      <th>count</th>\n",
              "      <td>614.000000</td>\n",
              "      <td>614.000000</td>\n",
              "      <td>614.000000</td>\n",
              "      <td>614.000000</td>\n",
              "      <td>614.000000</td>\n",
              "      <td>614.000000</td>\n",
              "    </tr>\n",
              "    <tr>\n",
              "      <th>mean</th>\n",
              "      <td>5403.459283</td>\n",
              "      <td>1621.245798</td>\n",
              "      <td>141.166124</td>\n",
              "      <td>334.201954</td>\n",
              "      <td>0.773616</td>\n",
              "      <td>0.687296</td>\n",
              "    </tr>\n",
              "    <tr>\n",
              "      <th>std</th>\n",
              "      <td>6109.041673</td>\n",
              "      <td>2926.248369</td>\n",
              "      <td>88.340630</td>\n",
              "      <td>82.183884</td>\n",
              "      <td>0.418832</td>\n",
              "      <td>0.463973</td>\n",
              "    </tr>\n",
              "    <tr>\n",
              "      <th>min</th>\n",
              "      <td>150.000000</td>\n",
              "      <td>0.000000</td>\n",
              "      <td>0.000000</td>\n",
              "      <td>0.000000</td>\n",
              "      <td>0.000000</td>\n",
              "      <td>0.000000</td>\n",
              "    </tr>\n",
              "    <tr>\n",
              "      <th>25%</th>\n",
              "      <td>2877.500000</td>\n",
              "      <td>0.000000</td>\n",
              "      <td>98.000000</td>\n",
              "      <td>360.000000</td>\n",
              "      <td>1.000000</td>\n",
              "      <td>0.000000</td>\n",
              "    </tr>\n",
              "    <tr>\n",
              "      <th>50%</th>\n",
              "      <td>3812.500000</td>\n",
              "      <td>1188.500000</td>\n",
              "      <td>125.000000</td>\n",
              "      <td>360.000000</td>\n",
              "      <td>1.000000</td>\n",
              "      <td>1.000000</td>\n",
              "    </tr>\n",
              "    <tr>\n",
              "      <th>75%</th>\n",
              "      <td>5795.000000</td>\n",
              "      <td>2297.250000</td>\n",
              "      <td>164.750000</td>\n",
              "      <td>360.000000</td>\n",
              "      <td>1.000000</td>\n",
              "      <td>1.000000</td>\n",
              "    </tr>\n",
              "    <tr>\n",
              "      <th>max</th>\n",
              "      <td>81000.000000</td>\n",
              "      <td>41667.000000</td>\n",
              "      <td>700.000000</td>\n",
              "      <td>480.000000</td>\n",
              "      <td>1.000000</td>\n",
              "      <td>1.000000</td>\n",
              "    </tr>\n",
              "  </tbody>\n",
              "</table>\n",
              "</div>"
            ],
            "text/plain": [
              "       ApplicantIncome  CoapplicantIncome  ...  Credit_History  Loan_Status\n",
              "count       614.000000         614.000000  ...      614.000000   614.000000\n",
              "mean       5403.459283        1621.245798  ...        0.773616     0.687296\n",
              "std        6109.041673        2926.248369  ...        0.418832     0.463973\n",
              "min         150.000000           0.000000  ...        0.000000     0.000000\n",
              "25%        2877.500000           0.000000  ...        1.000000     0.000000\n",
              "50%        3812.500000        1188.500000  ...        1.000000     1.000000\n",
              "75%        5795.000000        2297.250000  ...        1.000000     1.000000\n",
              "max       81000.000000       41667.000000  ...        1.000000     1.000000\n",
              "\n",
              "[8 rows x 6 columns]"
            ]
          },
          "metadata": {
            "tags": []
          },
          "execution_count": 25
        }
      ]
    },
    {
      "cell_type": "code",
      "metadata": {
        "id": "ozaUUQui9-U0",
        "colab_type": "code",
        "outputId": "382bff7a-876d-44b2-b62d-b2e78e853526",
        "colab": {
          "base_uri": "https://localhost:8080/",
          "height": 70
        }
      },
      "source": [
        "# Look on Target field \n",
        "data_df['Loan_Status'].value_counts()"
      ],
      "execution_count": 26,
      "outputs": [
        {
          "output_type": "execute_result",
          "data": {
            "text/plain": [
              "1    422\n",
              "0    192\n",
              "Name: Loan_Status, dtype: int64"
            ]
          },
          "metadata": {
            "tags": []
          },
          "execution_count": 26
        }
      ]
    },
    {
      "cell_type": "markdown",
      "metadata": {
        "id": "1lJmPnIw-P7A",
        "colab_type": "text"
      },
      "source": [
        "In our **loan** dataset, we hare having 422 samples of positive target field and 192 samples of negative target field. It becomes a binary classification problem."
      ]
    },
    {
      "cell_type": "code",
      "metadata": {
        "id": "qJb_TX9-Q4SF",
        "colab_type": "code",
        "colab": {}
      },
      "source": [
        "# Extract features and target fields from the data\n",
        "X = data_df.drop(['Loan_Status'], axis = 1)\n",
        "y = data_df['Loan_Status']"
      ],
      "execution_count": 0,
      "outputs": []
    },
    {
      "cell_type": "code",
      "metadata": {
        "id": "Q-HQ8MtWR9xs",
        "colab_type": "code",
        "colab": {}
      },
      "source": [
        "# Split the data into training and testing dataset\n",
        "X_train, X_test, y_train, y_test = train_test_split(X, y, test_size = 0.30, random_state = 0, stratify = y)"
      ],
      "execution_count": 0,
      "outputs": []
    },
    {
      "cell_type": "code",
      "metadata": {
        "id": "_axqIKYcUfaD",
        "colab_type": "code",
        "outputId": "1a67e861-4000-462e-b725-8f1fb5e6e23e",
        "colab": {
          "base_uri": "https://localhost:8080/",
          "height": 34
        }
      },
      "source": [
        "# verify the splitting of data  \n",
        "len(X_train) + len(X_test)"
      ],
      "execution_count": 29,
      "outputs": [
        {
          "output_type": "execute_result",
          "data": {
            "text/plain": [
              "614"
            ]
          },
          "metadata": {
            "tags": []
          },
          "execution_count": 29
        }
      ]
    },
    {
      "cell_type": "markdown",
      "metadata": {
        "id": "Gwl8NqnM_bhO",
        "colab_type": "text"
      },
      "source": [
        "### **Build Baseline Model**"
      ]
    },
    {
      "cell_type": "code",
      "metadata": {
        "id": "mKl1f6a6UjH6",
        "colab_type": "code",
        "colab": {}
      },
      "source": [
        "# build a baseline DecisionTreeClassifier model with default parameters\n",
        "clf = DecisionTreeClassifier()"
      ],
      "execution_count": 0,
      "outputs": []
    },
    {
      "cell_type": "code",
      "metadata": {
        "id": "bi_E14GyCxI_",
        "colab_type": "code",
        "colab": {
          "base_uri": "https://localhost:8080/",
          "height": 122
        },
        "outputId": "f8d0dd72-f2a5-446f-a2e8-71948031bac7"
      },
      "source": [
        "# DecisionTreeClassifier default parameters\n",
        "clf"
      ],
      "execution_count": 31,
      "outputs": [
        {
          "output_type": "execute_result",
          "data": {
            "text/plain": [
              "DecisionTreeClassifier(class_weight=None, criterion='gini', max_depth=None,\n",
              "                       max_features=None, max_leaf_nodes=None,\n",
              "                       min_impurity_decrease=0.0, min_impurity_split=None,\n",
              "                       min_samples_leaf=1, min_samples_split=2,\n",
              "                       min_weight_fraction_leaf=0.0, presort=False,\n",
              "                       random_state=None, splitter='best')"
            ]
          },
          "metadata": {
            "tags": []
          },
          "execution_count": 31
        }
      ]
    },
    {
      "cell_type": "code",
      "metadata": {
        "id": "pV0dKIStC6FG",
        "colab_type": "code",
        "colab": {
          "base_uri": "https://localhost:8080/",
          "height": 122
        },
        "outputId": "924a5667-3348-4cc9-e8f2-65724a0869a7"
      },
      "source": [
        "# fit the DecisionTreeClassifier model on training data\n",
        "clf.fit(X_train, y_train)"
      ],
      "execution_count": 32,
      "outputs": [
        {
          "output_type": "execute_result",
          "data": {
            "text/plain": [
              "DecisionTreeClassifier(class_weight=None, criterion='gini', max_depth=None,\n",
              "                       max_features=None, max_leaf_nodes=None,\n",
              "                       min_impurity_decrease=0.0, min_impurity_split=None,\n",
              "                       min_samples_leaf=1, min_samples_split=2,\n",
              "                       min_weight_fraction_leaf=0.0, presort=False,\n",
              "                       random_state=None, splitter='best')"
            ]
          },
          "metadata": {
            "tags": []
          },
          "execution_count": 32
        }
      ]
    },
    {
      "cell_type": "code",
      "metadata": {
        "id": "Y0GyxdB_VCdq",
        "colab_type": "code",
        "outputId": "914ea7a8-1490-4813-e481-87651ac2e0f1",
        "colab": {
          "base_uri": "https://localhost:8080/",
          "height": 34
        }
      },
      "source": [
        "# perform 5-fold-cross-validation on training dataset\n",
        "scores = cross_val_score(clf, X_train, y_train, cv = 5, scoring = 'accuracy')\n",
        "scores"
      ],
      "execution_count": 33,
      "outputs": [
        {
          "output_type": "execute_result",
          "data": {
            "text/plain": [
              "array([0.68604651, 0.6627907 , 0.63953488, 0.6744186 , 0.67058824])"
            ]
          },
          "metadata": {
            "tags": []
          },
          "execution_count": 33
        }
      ]
    },
    {
      "cell_type": "code",
      "metadata": {
        "id": "ymi37O9YWDXt",
        "colab_type": "code",
        "outputId": "b6ad702b-6e6f-4af2-b905-128ad904e6db",
        "colab": {
          "base_uri": "https://localhost:8080/",
          "height": 34
        }
      },
      "source": [
        "# average accuracy after performing 5-fold-cross-validation on training dataset\n",
        "scores.mean()"
      ],
      "execution_count": 34,
      "outputs": [
        {
          "output_type": "execute_result",
          "data": {
            "text/plain": [
              "0.6666757865937072"
            ]
          },
          "metadata": {
            "tags": []
          },
          "execution_count": 34
        }
      ]
    },
    {
      "cell_type": "code",
      "metadata": {
        "id": "KdiQ5iq5YLzA",
        "colab_type": "code",
        "outputId": "73be94da-f3c9-4671-d9b4-4e64210e93a6",
        "colab": {
          "base_uri": "https://localhost:8080/",
          "height": 52
        }
      },
      "source": [
        "# make prediction\n",
        "train_predictions = clf.predict(X_train)\n",
        "test_predictions = clf.predict(X_test)\n",
        "print(f\"Training accuracy = {accuracy_score(y_train, train_predictions)}\")\n",
        "print(f\"Testing accuracy = {accuracy_score(y_test, test_predictions)}\") "
      ],
      "execution_count": 35,
      "outputs": [
        {
          "output_type": "stream",
          "text": [
            "Training accuracy = 1.0\n",
            "Testing accuracy = 0.6864864864864865\n"
          ],
          "name": "stdout"
        }
      ]
    },
    {
      "cell_type": "markdown",
      "metadata": {
        "id": "dmF9bPqpDRwf",
        "colab_type": "text"
      },
      "source": [
        "The **DecisionTreeClassifier** model with default parameters gives us 68.64% accuracy on testing dataset."
      ]
    },
    {
      "cell_type": "markdown",
      "metadata": {
        "id": "SxJswzMSDttV",
        "colab_type": "text"
      },
      "source": [
        "### **GridSearchCV** "
      ]
    },
    {
      "cell_type": "markdown",
      "metadata": {
        "id": "NH7HbrKuD1Sf",
        "colab_type": "text"
      },
      "source": [
        "Perform GridSearchCV algorithm to do hyperparameter tuning, and look for the best parameters for the DecisionTreeClassifier model. "
      ]
    },
    {
      "cell_type": "code",
      "metadata": {
        "id": "in5Nb76ZZPE4",
        "colab_type": "code",
        "colab": {}
      },
      "source": [
        "# choose a set of parameters for DecisionTreeClassifier\n",
        "parameters = {\n",
        "    'max_depth': [1, 2, 3, 4, 5],\n",
        "    'min_samples_leaf': [1, 2, 3, 4, 5],\n",
        "    'min_samples_split': [2, 3, 4, 5],\n",
        "    'criterion': ['gini', 'entropy']\n",
        "}"
      ],
      "execution_count": 0,
      "outputs": []
    },
    {
      "cell_type": "code",
      "metadata": {
        "id": "yJmxOFTOFBs4",
        "colab_type": "code",
        "colab": {
          "base_uri": "https://localhost:8080/",
          "height": 122
        },
        "outputId": "1164d766-a34c-47d0-c048-be3056dc0b26"
      },
      "source": [
        "# find out the best hyperparameters for DecisionTreeClassifier using GridSearchCV\n",
        "grid_search = GridSearchCV(clf, parameters, scoring=make_scorer(accuracy_score))\n",
        "fit_grid_search = grid_search.fit(X_train, y_train)\n",
        "best_clf_grid = fit_grid_search.best_estimator_\n",
        "best_clf_grid"
      ],
      "execution_count": 43,
      "outputs": [
        {
          "output_type": "execute_result",
          "data": {
            "text/plain": [
              "DecisionTreeClassifier(class_weight=None, criterion='gini', max_depth=1,\n",
              "                       max_features=None, max_leaf_nodes=None,\n",
              "                       min_impurity_decrease=0.0, min_impurity_split=None,\n",
              "                       min_samples_leaf=1, min_samples_split=2,\n",
              "                       min_weight_fraction_leaf=0.0, presort=False,\n",
              "                       random_state=None, splitter='best')"
            ]
          },
          "metadata": {
            "tags": []
          },
          "execution_count": 43
        }
      ]
    },
    {
      "cell_type": "markdown",
      "metadata": {
        "id": "KCNCJeWKLHe_",
        "colab_type": "text"
      },
      "source": [
        "Best parameters obtain by **GridSearchCV** are:\n",
        "\n",
        "*   max_depth = 1 \n",
        "*   min_samples_leaf = 1\n",
        "*   min_samples_split = 2\n",
        "*   criterion = 'gini'\n",
        "\n",
        "\n"
      ]
    },
    {
      "cell_type": "code",
      "metadata": {
        "id": "jYfHICunGhir",
        "colab_type": "code",
        "colab": {
          "base_uri": "https://localhost:8080/",
          "height": 34
        },
        "outputId": "87578335-39c6-423c-e1a4-122717202ed4"
      },
      "source": [
        "# perform 5-fold-cross-validation on GridSearchCV optimized model\n",
        "grid_search_scores = cross_val_score(best_clf_grid, X_train, y_train, cv=5, scoring='accuracy')\n",
        "grid_search_scores"
      ],
      "execution_count": 44,
      "outputs": [
        {
          "output_type": "execute_result",
          "data": {
            "text/plain": [
              "array([0.74418605, 0.70930233, 0.72093023, 0.84883721, 0.78823529])"
            ]
          },
          "metadata": {
            "tags": []
          },
          "execution_count": 44
        }
      ]
    },
    {
      "cell_type": "code",
      "metadata": {
        "id": "C-rFjbxeHokO",
        "colab_type": "code",
        "colab": {
          "base_uri": "https://localhost:8080/",
          "height": 34
        },
        "outputId": "b39adf3b-59fb-4e77-9684-ef280125b824"
      },
      "source": [
        "# average accuracy after performing 5-fold-cross-validation on GridSearchCV optimized DecisionTreeClassifier model\n",
        "grid_search_scores.mean()"
      ],
      "execution_count": 45,
      "outputs": [
        {
          "output_type": "execute_result",
          "data": {
            "text/plain": [
              "0.7622982216142271"
            ]
          },
          "metadata": {
            "tags": []
          },
          "execution_count": 45
        }
      ]
    },
    {
      "cell_type": "markdown",
      "metadata": {
        "id": "5sS2DsDEIDxs",
        "colab_type": "text"
      },
      "source": [
        "After performing GridSearchCV optimization on DecisionTreeClassifier model we get an accuracy of 76.22% on training dataset."
      ]
    },
    {
      "cell_type": "code",
      "metadata": {
        "id": "EywbQVfbICXr",
        "colab_type": "code",
        "colab": {
          "base_uri": "https://localhost:8080/",
          "height": 52
        },
        "outputId": "e5b43a54-2a9b-4a95-f356-4ce123e77d8e"
      },
      "source": [
        "# make prediction\n",
        "best_clf_grid.fit(X_train, y_train)\n",
        "grid_search_train_predictions = best_clf_grid.predict(X_train)\n",
        "grid_search_test_predictions = best_clf_grid.predict(X_test)\n",
        "print(f\"Training Accuracy = {accuracy_score(y_train, grid_search_train_predictions)}\")\n",
        "print(f\"Testing Accuracy = {accuracy_score(y_test, grid_search_test_predictions)}\")"
      ],
      "execution_count": 47,
      "outputs": [
        {
          "output_type": "stream",
          "text": [
            "Training Accuracy = 0.7622377622377622\n",
            "Testing Accuracy = 0.7891891891891892\n"
          ],
          "name": "stdout"
        }
      ]
    },
    {
      "cell_type": "markdown",
      "metadata": {
        "id": "e4w6FxabJwcQ",
        "colab_type": "text"
      },
      "source": [
        "The **DecisionTreeClassiifer** model with GridSearchCV optimization gives us an accuracy of 78.91% on Testing dataset."
      ]
    },
    {
      "cell_type": "markdown",
      "metadata": {
        "id": "W2zB8kVxKOM7",
        "colab_type": "text"
      },
      "source": [
        "### **RandomizedSearchCV**"
      ]
    },
    {
      "cell_type": "markdown",
      "metadata": {
        "id": "KDioY_zLKWTT",
        "colab_type": "text"
      },
      "source": [
        "Perform **RandomizedSearchCV** algorithm to do hyperparameter tuning, and look for the best parameters for the DecisionTreeClassifier model. \n",
        "\n"
      ]
    },
    {
      "cell_type": "code",
      "metadata": {
        "id": "nVwzzilnJjjP",
        "colab_type": "code",
        "colab": {}
      },
      "source": [
        "# choose a set of parameters for DecisionTreeClassifier\n",
        "parameters = {\n",
        "    'max_depth': [1, 2, 3, 4, 5],\n",
        "    'min_samples_leaf': [1, 2, 3, 4, 5],\n",
        "    'min_samples_split': [2, 3, 4, 5],\n",
        "    'criterion': ['gini', 'entropy']\n",
        "}"
      ],
      "execution_count": 0,
      "outputs": []
    },
    {
      "cell_type": "code",
      "metadata": {
        "id": "_6zu1fC5Kq3F",
        "colab_type": "code",
        "colab": {
          "base_uri": "https://localhost:8080/",
          "height": 122
        },
        "outputId": "53cc3900-f9ad-4410-95f5-3ffadd5c62d7"
      },
      "source": [
        "# find out the best hyperparameters for DecisionTreeClassifier using RandomizedSearchCV\n",
        "ran_search = RandomizedSearchCV(clf, parameters, scoring=make_scorer(accuracy_score))\n",
        "fit_ran_search = ran_search.fit(X_train, y_train)\n",
        "best_clf_ran = fit_ran_search.best_estimator_\n",
        "best_clf_ran"
      ],
      "execution_count": 49,
      "outputs": [
        {
          "output_type": "execute_result",
          "data": {
            "text/plain": [
              "DecisionTreeClassifier(class_weight=None, criterion='entropy', max_depth=1,\n",
              "                       max_features=None, max_leaf_nodes=None,\n",
              "                       min_impurity_decrease=0.0, min_impurity_split=None,\n",
              "                       min_samples_leaf=4, min_samples_split=5,\n",
              "                       min_weight_fraction_leaf=0.0, presort=False,\n",
              "                       random_state=None, splitter='best')"
            ]
          },
          "metadata": {
            "tags": []
          },
          "execution_count": 49
        }
      ]
    },
    {
      "cell_type": "markdown",
      "metadata": {
        "id": "K_Mh74jSLuaC",
        "colab_type": "text"
      },
      "source": [
        "Best parameters obtain by **RandomSearchCv** are:\n",
        "\n",
        "*   max_depth = 1 \n",
        "*   min_samples_leaf = 4\n",
        "*   min_samples_split = 5\n",
        "*   criterion = 'entropy'\n",
        "\n",
        "\n"
      ]
    },
    {
      "cell_type": "code",
      "metadata": {
        "id": "FyOsD0N5K9iS",
        "colab_type": "code",
        "colab": {
          "base_uri": "https://localhost:8080/",
          "height": 34
        },
        "outputId": "0a228dc3-e84e-4d4b-b94d-6665e955d395"
      },
      "source": [
        "# perform 5-fold-cross-validation on RandomizedSearchCV optimized model\n",
        "ran_search_scores = cross_val_score(best_clf_ran, X_train, y_train, cv=5, scoring='accuracy')\n",
        "ran_search_scores"
      ],
      "execution_count": 50,
      "outputs": [
        {
          "output_type": "execute_result",
          "data": {
            "text/plain": [
              "array([0.74418605, 0.70930233, 0.72093023, 0.84883721, 0.78823529])"
            ]
          },
          "metadata": {
            "tags": []
          },
          "execution_count": 50
        }
      ]
    },
    {
      "cell_type": "code",
      "metadata": {
        "id": "unDP-ZD-MEtw",
        "colab_type": "code",
        "colab": {
          "base_uri": "https://localhost:8080/",
          "height": 34
        },
        "outputId": "2bcf5997-858b-470d-9f11-9b1ad1efd285"
      },
      "source": [
        "# average accuracy after performing 5-fold-cross-validation on RandomizedSearchCV optimized DecisionTreeClassifier model\n",
        "ran_search_scores.mean()"
      ],
      "execution_count": 51,
      "outputs": [
        {
          "output_type": "execute_result",
          "data": {
            "text/plain": [
              "0.7622982216142271"
            ]
          },
          "metadata": {
            "tags": []
          },
          "execution_count": 51
        }
      ]
    },
    {
      "cell_type": "markdown",
      "metadata": {
        "id": "ptQnT2TDMTLJ",
        "colab_type": "text"
      },
      "source": [
        "After performing RandomizedSearchCV optimization on DecisionTreeClassifier model we get an accuracy of 76.22% on training dataset."
      ]
    },
    {
      "cell_type": "code",
      "metadata": {
        "id": "ZaL9mLnEMM2V",
        "colab_type": "code",
        "colab": {
          "base_uri": "https://localhost:8080/",
          "height": 52
        },
        "outputId": "53a4ab92-501c-4412-b7ce-e72a7540ddfa"
      },
      "source": [
        "# make prediction\n",
        "best_clf_ran.fit(X_train, y_train)\n",
        "ran_search_train_predictions = best_clf_ran.predict(X_train)\n",
        "ran_search_test_predictions = best_clf_ran.predict(X_test)\n",
        "print(f\"Training Accuracy = {accuracy_score(y_train, ran_search_train_predictions)}\")\n",
        "print(f\"Testing Accuracy = {accuracy_score(y_test, ran_search_test_predictions)}\")"
      ],
      "execution_count": 52,
      "outputs": [
        {
          "output_type": "stream",
          "text": [
            "Training Accuracy = 0.7622377622377622\n",
            "Testing Accuracy = 0.7891891891891892\n"
          ],
          "name": "stdout"
        }
      ]
    },
    {
      "cell_type": "markdown",
      "metadata": {
        "id": "SxZMlh6SMq7b",
        "colab_type": "text"
      },
      "source": [
        "The **DecisionTreeClassiifer** model with RandomizedSearchCV optimization gives us an accuracy of 78.91% on Testing dataset."
      ]
    }
  ]
}